{
 "cells": [
  {
   "cell_type": "markdown",
   "id": "22ac0709-5b41-4731-bc58-27e1bd1e6b8c",
   "metadata": {},
   "source": [
    "Q1. Explain GET and POST methods.\n",
    "\n",
    "ans:- Both GET and POST method is used to transfer data from client to server in HTTP protocol but\n",
    "Main difference between POST and GET method is that GET carries request parameter appended\n",
    "in URL string while POST carries request parameter in message body which makes it more secure\n",
    "way of transferring data from client to server."
   ]
  },
  {
   "cell_type": "markdown",
   "id": "059abf05-fc72-4e45-89e9-a4deab76f68b",
   "metadata": {},
   "source": [
    "Q2. Why is request used in Flask?\n",
    "\n",
    "ans:- In Flask, the request object is used to access data sent by the client (usually a web browser) \n",
    "to the server as part of an HTTP request. This data can include:\n",
    "Form data: Data submitted through HTML forms.\n",
    "Query string parameters: Data appended to the URL after a ? symbol.\n",
    "Headers: Information about the request, such as the browser type, cookies, etc.\n",
    "Request body: Data sent in the body of the request, often used for APIs and JSON data."
   ]
  },
  {
   "cell_type": "markdown",
   "id": "a1be1705-c8ab-4446-8729-0eebcadd064b",
   "metadata": {},
   "source": [
    "Q3. Why is redirect() used in Flask?\n",
    "\n",
    "ans:- \n",
    "A redirect is used in the Flask class to send the user to a particular URL with the status code. \n",
    "conversely, this status code additionally identifies the issue."
   ]
  },
  {
   "cell_type": "markdown",
   "id": "cd8f0700-f4de-4490-9051-fdffa4fc913f",
   "metadata": {},
   "source": [
    "Q4. What are templates in Flask? Why is the render_template() function used?\n",
    "\n",
    "ans:- In Flask, templates are files that can hold both static and dynamic content, and are used to extend an application's \n",
    "functionality while keeping a structured file system. The render_template() function is used to serve an HTML template as a response,\n",
    "rendering the template with specific data to produce a final document.\n",
    "Contain static data and placeholders for dynamic data. Flask uses the Jinja template library to render templates. \n",
    "Templates allow data to be processed and shared before being converted into content and sent to the client. \n",
    "render_template()\n",
    "Takes the template file's name as an input argument, along with any number of keyword arguments that represent the variables to be \n",
    "passed to the template. The function renders HTML files for display in the web browser using the Jinja2 template engine. "
   ]
  },
  {
   "cell_type": "code",
   "execution_count": null,
   "id": "0a29e5a5-0445-47d1-9981-3aa7a7cc2534",
   "metadata": {},
   "outputs": [],
   "source": [
    "Q5. Create a simple API. Use Postman to test it. Attach the screenshot of the output in the Jupyter Notebook.\n",
    "\n",
    "ans:- \"C:\\Users\\chhay\\Downloads\\sc3.png\"\n",
    "\n",
    "\"C:\\Users\\chhay\\Downloads\\sc5.png\""
   ]
  }
 ],
 "metadata": {
  "kernelspec": {
   "display_name": "Python 3 (ipykernel)",
   "language": "python",
   "name": "python3"
  },
  "language_info": {
   "codemirror_mode": {
    "name": "ipython",
    "version": 3
   },
   "file_extension": ".py",
   "mimetype": "text/x-python",
   "name": "python",
   "nbconvert_exporter": "python",
   "pygments_lexer": "ipython3",
   "version": "3.10.8"
  }
 },
 "nbformat": 4,
 "nbformat_minor": 5
}
